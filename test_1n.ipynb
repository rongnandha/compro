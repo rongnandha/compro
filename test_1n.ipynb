{
 "cells": [
  {
   "cell_type": "markdown",
   "metadata": {
    "inputHidden": false,
    "outputExpanded": false,
    "outputHidden": false
   },
   "source": [
    "# แนะนำตัวเอง\n",
    "\n",
    "1. ประวัติส่วนตัว\n",
    "2. ประวัติการศึกษา เป็นตาราง\n",
    "3. ใส่รูปของตัวเอง 1 รูป"
   ]
  },
  {
   "cell_type": "markdown",
   "metadata": {
    "inputHidden": false,
    "outputHidden": false
   },
   "source": [
    "## ตัวอย่าง"
   ]
  },
  {
   "cell_type": "markdown",
   "metadata": {},
   "source": [
    "* ชื่อ ทอร์ บุตรโอดิน\n",
    "* อายุ 20 ปี\n",
    "![image](resistor-sample.jpg)\n",
    "\n",
    "### ประวัติการศึกษา\n",
    "\n",
    "| ระดับ | สถาบัน | ปีที่จบ | \n",
    "|---|---|---|\n",
    "| ป.6 | โรงเรียนบ้านนอกวิทยาคม  | 2550  | \n",
    "| ม.3  | โรงเรียนอำเภอพิทยาคม  | 2553  |  \n",
    "| ม.6  | โรงเรียนจังหวัดวิทยายน  | 2557  | \n",
    "| ปริญญาตรี  | มหาวิทยาลัยแห่งชาติ  | ปัจจุบัน  |\n",
    "\n",
   ]
  },
  {
   "cell_type": "markdown",
   "metadata": {},
   "source": [
    "### ความคาดหวังในการเรียนวิชานี้\n",
    "\n",
    "1. เรียนสนุก มีสาระ\n",
    "2. ทำงานส่งตรงเวลา"
   ]
  }
 ],
 "metadata": {
  "kernel_info": {
   "name": "python3"
  },
  "kernelspec": {
   "display_name": "Python 3",
   "language": "python",
   "name": "python3"
  },
  "language_info": {
   "codemirror_mode": {
    "name": "ipython",
    "version": 3
   },
   "file_extension": ".py",
   "mimetype": "text/x-python",
   "name": "python",
   "nbconvert_exporter": "python",
   "pygments_lexer": "ipython3",
   "version": "3.6.3"
  },
  "nteract": {
   "version": "0.3.4"
  }
 },
 "nbformat": 4,
 "nbformat_minor": 4
}
