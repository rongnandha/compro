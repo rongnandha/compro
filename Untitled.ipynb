{
 "cells": [
  {
   "cell_type": "code",
   "execution_count": 1,
   "metadata": {},
   "outputs": [
    {
     "name": "stdout",
     "output_type": "stream",
     "text": [
      "1! = 1 = 1\n",
      "2! = 1 x 2 = 2\n",
      "3! = 1 x 2 x 3 = 6\n",
      "4! = 1 x 2 x 3 x 4 = 24\n",
      "5! = 1 x 2 x 3 x 4 x 5 = 120\n",
      "6! = 1 x 2 x 3 x 4 x 5 x 6 = 720\n",
      "7! = 1 x 2 x 3 x 4 x 5 x 6 x 7 = 5040\n",
      "8! = 1 x 2 x 3 x 4 x 5 x 6 x 7 x 8 = 40320\n"
     ]
    }
   ],
   "source": [
    "def fact(n):\n",
    "   if n == 1:\n",
    "       return n\n",
    "   else:\n",
    "       return n*fact(n-1)\n",
    "\n",
    "n= 8 #int(input(\"Enter the number : \"))\n",
    "\n",
    "for i in range(1,n+1):\n",
    "    x=list(map(str,list(range(1,i+1))))\n",
    "    print(i,\"! = \",\" x \".join(x),\" = \",fact(i),sep=\"\")"
   ]
  },
  {
   "cell_type": "code",
   "execution_count": 2,
   "metadata": {},
   "outputs": [
    {
     "name": "stdout",
     "output_type": "stream",
     "text": [
      "Enter the number : 3\n",
      "1! = 1 = 1\n",
      "2! = 1 x 2 = 2\n",
      "3! = 1 x 2 x 3 = 6\n"
     ]
    }
   ],
   "source": [
    "def fact(n):\n",
    "   if n == 1:\n",
    "       return n\n",
    "   else:\n",
    "       return n*fact(n-1)\n",
    "\n",
    "n= int(input(\"Enter the number : \"))\n",
    "\n",
    "for i in range(1,n+1):\n",
    "    x=list(map(str,list(range(1,i+1))))\n",
    "    print(i,\"! = \",\" x \".join(x),\" = \",fact(i),sep=\"\")"
   ]
  },
  {
   "cell_type": "code",
   "execution_count": null,
   "metadata": {
    "collapsed": true
   },
   "outputs": [],
   "source": [
    "import matplotlib.pyplot as plt\n",
    "import numpy as np\n",
    "\n",
    "a = arange(0,1,0.01)\n",
    "y = np.cos(2*np.pi*a)\n",
    "plt.plot()"
   ]
  }
 ],
 "metadata": {
  "kernelspec": {
   "display_name": "Python 3",
   "language": "python",
   "name": "python3"
  },
  "language_info": {
   "codemirror_mode": {
    "name": "ipython",
    "version": 3
   },
   "file_extension": ".py",
   "mimetype": "text/x-python",
   "name": "python",
   "nbconvert_exporter": "python",
   "pygments_lexer": "ipython3",
   "version": "3.6.2"
  }
 },
 "nbformat": 4,
 "nbformat_minor": 2
}
