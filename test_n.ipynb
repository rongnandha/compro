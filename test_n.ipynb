{
  "cells": [
    {
      "cell_type": "markdown",
      "source": [
        "# แนะนำตัวเอง\n",
        "\n",
        "1. ประวัติส่วนตัว\n",
        "2. ประวัติการศึกษา เป็นตาราง\n",
        "3. ใส่รูปของตัวเอง 1 รูป"
      ],
      "metadata": {
        "collapsed": false,
        "outputHidden": false,
        "inputHidden": false,
        "outputExpanded": false
      }
    },
    {
      "cell_type": "markdown",
      "source": [
        "## ตัวอย่าง"
      ],
      "metadata": {
        "collapsed": false,
        "outputHidden": false,
        "inputHidden": false
      }
    },
    {
      "cell_type": "markdown",
      "source": [
        "* ชื่อ ทอร์ บุตรโอดิน\n",
        "* อายุ 20 ปี\n",
        "\n",
        "ประวัติการศึกษา\n",
        "|----|----|----|\n",
        "|ระดับ| สถาบัน | ปีที่จบ |\n",
        "|----|----|----|\n",
        "\n"
      ],
      "metadata": {}
    },
    {
      "cell_type": "markdown",
      "source": [
        "ความคาดหวังในการเรียนวิชานี้\n",
        "\n",
        "1. เรียนสนุก มีสาระ\n",
        "2. ทำงานส่งตรงเวลา"
      ],
      "metadata": {}
    },
    {
      "cell_type": "markdown",
      "source": [],
      "metadata": {}
    }
  ],
  "metadata": {
    "kernelspec": {
      "name": "python3",
      "language": "python",
      "display_name": "Python 3"
    },
    "kernel_info": {
      "name": "python3"
    },
    "language_info": {
      "name": "python",
      "version": "3.6.3",
      "mimetype": "text/x-python",
      "codemirror_mode": {
        "name": "ipython",
        "version": 3
      },
      "pygments_lexer": "ipython3",
      "nbconvert_exporter": "python",
      "file_extension": ".py"
    },
    "nteract": {
      "version": "0.3.4"
    }
  },
  "nbformat": 4,
  "nbformat_minor": 4
}